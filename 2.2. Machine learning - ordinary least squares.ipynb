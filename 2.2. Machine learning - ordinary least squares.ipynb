{
 "metadata": {
  "name": "",
  "signature": "sha256:aef5ac486a92fe6b5da871d61d3dc4ba8c6117a5218bcc27546e05f3db510268"
 },
 "nbformat": 3,
 "nbformat_minor": 0,
 "worksheets": [
  {
   "cells": [
    {
     "cell_type": "heading",
     "level": 1,
     "metadata": {},
     "source": [
      "Predict ridership using machine learning - ordinary least squares"
     ]
    },
    {
     "cell_type": "code",
     "collapsed": false,
     "input": [
      "import numpy as np\n",
      "import pandas as pd\n",
      "import statsmodels.api as sm\n",
      "import statsmodels.formula.api as smf\n",
      "\n",
      "df = pd.read_csv('turnstile_weather_v2.csv', parse_dates=['datetime'])\n",
      "df_entries_hourly = df['ENTRIESn_hourly']"
     ],
     "language": "python",
     "metadata": {},
     "outputs": [],
     "prompt_number": 1
    }
   ],
   "metadata": {}
  }
 ]
}