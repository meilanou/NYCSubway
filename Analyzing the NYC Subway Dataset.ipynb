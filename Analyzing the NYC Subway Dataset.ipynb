{
 "metadata": {
  "name": "",
  "signature": "sha256:ba907904085bb3f89372dfe01d18ebcf78e5406518d9a3302a1fce1f3c73ae11"
 },
 "nbformat": 3,
 "nbformat_minor": 0,
 "worksheets": [
  {
   "cells": [
    {
     "cell_type": "heading",
     "level": 1,
     "metadata": {},
     "source": [
      "Analyzing the NYC Subway Dataset"
     ]
    },
    {
     "cell_type": "markdown",
     "metadata": {},
     "source": [
      "Author: Meilan Ou<br/>\n",
      "Source code: https://github.com/meilanou/NYCSubway<br/>\n",
      "Last update: March 8th 2015"
     ]
    },
    {
     "cell_type": "heading",
     "level": 3,
     "metadata": {},
     "source": [
      "Introduction"
     ]
    },
    {
     "cell_type": "markdown",
     "metadata": {},
     "source": [
      "<p>By annual ridership, the New York City Subway is the busiest rapid transit rail system in the United States and in the Americas, and the seventh busiest in the world. It offers rail service 24 hours and every day of the year. It is also the largest system in the world by number of stations, with 468 stations in operation (421, if stations connected by transfers are counted as single stations).</p>\n",
      "<p>Understanding NYC Subway ridership may help government officials and planners to better idenifity the potential of space and resouce, and further improve the living quality in the urban setting. To understand ridership, one approach is to analyze the turnstile entry and exit data which is being collected by MTA at different stations and remote units.</p>\n",
      "<p>In this project, I'm going to analyze the NYC Subway turnstile data with statistical methods, and predict its ridership by key common factors such as time, day of week, and weather records like raining or not.</p>\n",
      "<p><img src=\"http://files.doobybrain.com/wp-content/uploads/2011/09/busiest-turnstile-in-NYC.jpg\"/ /><div style=\"text-align: center;\">NYC Subway turnstiles. Photo source: AP, originally at http://www.doobybrain.com/2011/09/04/new-york-citys-busiest-turnstile/</div></p>"
     ]
    },
    {
     "cell_type": "heading",
     "level": 3,
     "metadata": {},
     "source": [
      "Data sources"
     ]
    },
    {
     "cell_type": "markdown",
     "metadata": {},
     "source": [
      "<p>Origianl raw data can be found at:</p>\n",
      "<ul>\n",
      "<li>NYC Subway turnstile data - http://web.mta.info/developers/turnstile.html</li>\n",
      "<li>Weather underground - http://www.wunderground.com/weather/api/d/docs?d=resources/phrase-glossary&MR=1</li>\n",
      "</ul>\n",
      "\n",
      "<p>While on average data scientists spend 70% of their time on data munging, luckily for this project Udacity course team provides an improved data set that combines ridership and weather condition for each reading. It's available at: https://www.dropbox.com/s/1lpoeh2w6px4diu/improved-dataset.zip?dl=0</p>"
     ]
    },
    {
     "cell_type": "heading",
     "level": 3,
     "metadata": {},
     "source": [
      "Code sections"
     ]
    },
    {
     "cell_type": "markdown",
     "metadata": {},
     "source": [
      "<ul>\n",
      "<li>Section 0: <a href=\"0.%20Exploring%20data.ipynb\" target=\"_blank\">Explore ridership and weather data</a></li>\n",
      "<li>Section 1: <a href=\"1.%20Statistical%20test.ipynb\" target=\"_blank\">Analyze rain vs. ridership with statistical tests</a></li>\n",
      "<li>Section 2.1: <a href=\"2.1.%20Machine%20learning%20-%20gradient%20descent.ipynb\" target=\"_blank\">Predict ridership with supervised learning - linear regression with gradient descent</a></li>\n",
      "<li>Section 2.2: <a href=\"2.2.%20Machine%20learning%20-%20ordinary%20least%20squares.ipynb\" target=\"_blank\">Predict ridership with supervised learning - linear regression with ordinary least squares</a></li>\n",
      "</ul>\n",
      "<p>Clike on section 0: <a href=\"0.%20Exploring%20data.ipynb\" target=\"_blank\">Explore ridership and weather data</a> to get started!</p>"
     ]
    }
   ],
   "metadata": {}
  }
 ]
}