{
 "metadata": {
  "name": "",
  "signature": "sha256:21b4267c5c6c058f659e0d8fe49d1010693f9b0c868f8339872b1482eb4936e9"
 },
 "nbformat": 3,
 "nbformat_minor": 0,
 "worksheets": [
  {
   "cells": [
    {
     "cell_type": "code",
     "collapsed": false,
     "input": [
      "import pandas as pd\n",
      "import numpy as np"
     ],
     "language": "python",
     "metadata": {},
     "outputs": [],
     "prompt_number": 1
    },
    {
     "cell_type": "code",
     "collapsed": false,
     "input": [
      "# Seaborn is a visualization library on top of matplotlib.\n",
      "import seaborn as sns\n",
      "import matplotlib.pyplot as plt"
     ],
     "language": "python",
     "metadata": {},
     "outputs": [],
     "prompt_number": 2
    },
    {
     "cell_type": "code",
     "collapsed": false,
     "input": [
      "df = pd.read_csv('turnstile_weather_v2.csv', parse_dates=['datetime'])\n",
      "#print df.describe()"
     ],
     "language": "python",
     "metadata": {},
     "outputs": [],
     "prompt_number": 3
    },
    {
     "cell_type": "code",
     "collapsed": false,
     "input": [
      "station_group = df.groupby([\"station\"], as_index=False)\n",
      "# group by station and aggregate to obtain average ridership per station\n",
      "ordered = station_group[\"station\", \"ENTRIESn_hourly\"].aggregate(np.mean).sort(\"ENTRIESn_hourly\", ascending=False)\n",
      "#ordered.tail()"
     ],
     "language": "python",
     "metadata": {},
     "outputs": [],
     "prompt_number": 4
    },
    {
     "cell_type": "code",
     "collapsed": false,
     "input": [
      "from IPython.html.widgets import interact\n",
      "import IPython\n",
      "%matplotlib inline\n",
      "\n",
      "# Interactive components available starting with IPython 2.0\n",
      "#IPython.__version__"
     ],
     "language": "python",
     "metadata": {},
     "outputs": [],
     "prompt_number": 5
    },
    {
     "cell_type": "code",
     "collapsed": false,
     "input": [
      "def get_station_data(station_name):\n",
      "    \"\"\"Filter subway dataframe for a particular station.\n",
      "    Return two Pandas Series with ridership data - one for rain and one for no-rain.\n",
      "    Prints number of elements in each of the series. \n",
      "    This is a helper function for visualization.\n",
      "    \"\"\"\n",
      "    station_rain = df[ (df[\"station\"] == station_name) & (df[\"rain\"] == 1) ][\"ENTRIESn_hourly\"]\n",
      "    station_no_rain = df[ (df[\"station\"] == station_name) & (df[\"rain\"] == 0) ][\"ENTRIESn_hourly\"]\n",
      "    \n",
      "    print \"RAIN number of elements: \", str(len(station_rain))\n",
      "    print \"NO RAIN number of elements: \", str(len(station_no_rain))\n",
      "    return station_rain, station_no_rain"
     ],
     "language": "python",
     "metadata": {},
     "outputs": [],
     "prompt_number": 6
    },
    {
     "cell_type": "code",
     "collapsed": false,
     "input": [
      "def histogram_vis(station_name):\n",
      "    \"\"\"Produce a figure with two histograms for the particular station. \n",
      "    One histogram for rain and one for no-rain.\n",
      "    \"\"\"\n",
      "    station_rain, station_no_rain = get_station_data(station_name)\n",
      "\n",
      "    # find maximum ridership value for this station - used for x-axis limits\n",
      "    max_value = max(station_rain.max(), station_no_rain.max())\n",
      "    \n",
      "    # create figure and axes\n",
      "    fig, (ax0, ax1) = plt.subplots(ncols=2, figsize=(14, 6))\n",
      "    \n",
      "    # produce histogram\n",
      "    # use ax argument to specify axis explicitly\n",
      "    station_rain.hist(bins=20, ax=ax0)\n",
      "    ax0.set_xlim(-1, max_value*1.1)\n",
      "    ax0.set_title(\"Ridership with RAIN for \" + station_name)\n",
      "    \n",
      "    station_no_rain.hist(bins=20, ax=ax1)\n",
      "    ax1.set_xlim(-1, max_value*1.1)\n",
      "    ax1.set_title(\"Ridership with NO RAIN for \" + station_name)"
     ],
     "language": "python",
     "metadata": {},
     "outputs": [],
     "prompt_number": 7
    },
    {
     "cell_type": "code",
     "collapsed": false,
     "input": [
      "top_stations = list(ordered.head()[\"station\"])"
     ],
     "language": "python",
     "metadata": {},
     "outputs": [],
     "prompt_number": 8
    },
    {
     "cell_type": "code",
     "collapsed": false,
     "input": [
      "i1 = interact(histogram_vis, station_name=top_stations)"
     ],
     "language": "python",
     "metadata": {},
     "outputs": [
      {
       "output_type": "stream",
       "stream": "stdout",
       "text": [
        "RAIN number of elements:  42\n",
        "NO RAIN number of elements:  144\n"
       ]
      },
      {
       "metadata": {},
       "output_type": "display_data",
       "png": "[encoded data removed]",
       "text": [
        "<matplotlib.figure.Figure at 0x15f4acc0>"
       ]
      }
     ],
     "prompt_number": 9
    },
    {
     "cell_type": "code",
     "collapsed": false,
     "input": [
      "def compare_vis(station_name, type_vis):\n",
      "    \"\"\"Produce two visualizations comparing ridership for a given station.\n",
      "    type_vis == \"violin\", then the two visualizations are violin plots. \n",
      "    type_vis == \"box\", then the two visualizations are box plots\n",
      "    Uses Seaborn to produce plots.\n",
      "    \"\"\"\n",
      "    station_rain, station_no_rain = get_station_data(station_name)\n",
      "    \n",
      "    fig, ax0 = plt.subplots(ncols=1, figsize=(7, 5))\n",
      "    ax0.set_title(\"Compare Ridership for \" + station_name)\n",
      "    \n",
      "    if type_vis == \"box\":\n",
      "        sns.boxplot([station_rain, station_no_rain], names=[\"RAIN\", \"NO RAIN\"], ax=ax0)\n",
      "    elif type_vis == \"violin\":\n",
      "        # bw sets the binwidth of the kernel density estimator for each of the violins\n",
      "        sns.violinplot([station_rain, station_no_rain], names=[\"RAIN\", \"NO RAIN\"], bw=0.3, ax=ax0)"
     ],
     "language": "python",
     "metadata": {},
     "outputs": [],
     "prompt_number": 10
    },
    {
     "cell_type": "code",
     "collapsed": false,
     "input": [
      "i2 = interact(compare_vis, station_name = top_stations, type_vis = [\"box\", \"violin\"])"
     ],
     "language": "python",
     "metadata": {},
     "outputs": [
      {
       "output_type": "stream",
       "stream": "stdout",
       "text": [
        "RAIN number of elements:  42\n",
        "NO RAIN number of elements:  144\n"
       ]
      },
      {
       "metadata": {},
       "output_type": "display_data",
       "png": "[encoded data removed]",
       "text": [
        "<matplotlib.figure.Figure at 0x1614fc18>"
       ]
      }
     ],
     "prompt_number": 11
    }
   ],
   "metadata": {}
  }
 ]
}