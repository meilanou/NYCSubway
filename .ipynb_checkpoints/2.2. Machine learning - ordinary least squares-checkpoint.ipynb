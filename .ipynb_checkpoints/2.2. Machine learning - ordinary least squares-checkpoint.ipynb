{
 "metadata": {
  "name": "",
  "signature": "sha256:c7e84cc69d8414ae72201c8b448356c60cf17eb216462eba93fd7fec64a47cb0"
 },
 "nbformat": 3,
 "nbformat_minor": 0,
 "worksheets": [
  {
   "cells": [
    {
     "cell_type": "heading",
     "level": 1,
     "metadata": {},
     "source": [
      "Predict ridership using machine learning - ordinary least squares"
     ]
    },
    {
     "cell_type": "code",
     "collapsed": false,
     "input": [
      "import numpy as np\n",
      "import pandas as pd\n",
      "import statsmodels.api as sm\n",
      "import statsmodels.formula.api as smf\n",
      "\n",
      "df = pd.read_csv('turnstile_weather_v2.csv', parse_dates=['datetime'])\n",
      "df_entries_hourly = df['ENTRIESn_hourly']"
     ],
     "language": "python",
     "metadata": {},
     "outputs": []
    }
   ],
   "metadata": {}
  }
 ]
}