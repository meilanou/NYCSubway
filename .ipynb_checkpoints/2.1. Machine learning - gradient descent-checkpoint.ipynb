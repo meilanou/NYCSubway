{
 "metadata": {
  "name": "",
  "signature": "sha256:f65c845468a2e284da69d1b78eb780d6eb004dded796bf51e81ba16b86b86ae1"
 },
 "nbformat": 3,
 "nbformat_minor": 0,
 "worksheets": [
  {
   "cells": [
    {
     "cell_type": "heading",
     "level": 1,
     "metadata": {},
     "source": [
      "Predict ridership using machine learning - gradient descent"
     ]
    },
    {
     "cell_type": "code",
     "collapsed": false,
     "input": [
      "import numpy as np\n",
      "import pandas as pd\n",
      "import scipy.stats as st\n",
      "import matplotlib.pyplot as plt\n",
      "\n",
      "from IPython.html.widgets import interact\n",
      "import IPython\n",
      "%matplotlib inline\n",
      "\n",
      "df = pd.read_csv('turnstile_weather_v2.csv', parse_dates=['datetime'])\n",
      "df_entries_hourly = df['ENTRIESn_hourly']"
     ],
     "language": "python",
     "metadata": {},
     "outputs": [],
     "prompt_number": 81
    },
    {
     "cell_type": "code",
     "collapsed": false,
     "input": [
      "def normalize_features(df_features):\n",
      "    mu = df_features.mean()\n",
      "    sigma = df_features.std()\n",
      "\n",
      "    if (sigma == 0).any():\n",
      "        raise Exception(\"One or more features had the same value for all samples, and thus could \" + \\\n",
      "                         \"not be normalized. Please do not include features with only a single value \" + \\\n",
      "                         \"in your model.\")\n",
      "    df_normalized = (df_features - mu) / sigma\n",
      "\n",
      "    return df_normalized, mu, sigma"
     ],
     "language": "python",
     "metadata": {},
     "outputs": [],
     "prompt_number": 82
    },
    {
     "cell_type": "code",
     "collapsed": false,
     "input": [
      "def compute_cost(features, values, theta):\n",
      "    \"\"\"\n",
      "    Compute the cost function given a set of features / values, \n",
      "    and the values for our thetas.\n",
      "    \"\"\"\n",
      "\n",
      "    predicted_values = np.dot(features, theta)\n",
      "    sum_squared_errors = np.square(predicted_values - values).sum()\n",
      "    m = len(values)\n",
      "    cost = sum_squared_errors / (2 * m)\n",
      "    \n",
      "    return cost"
     ],
     "language": "python",
     "metadata": {},
     "outputs": [],
     "prompt_number": 83
    },
    {
     "cell_type": "code",
     "collapsed": false,
     "input": [
      "def gradient_descent(features, values, theta, alpha, num_iterations):\n",
      "    \"\"\"\n",
      "    Perform gradient descent given a data set with an arbitrary number of features.\n",
      "    \"\"\"\n",
      "    \n",
      "    m = len(values)\n",
      "    cost_history = []\n",
      "\n",
      "    for i in range(num_iterations):\n",
      "        predicted_values = np.dot(features, theta)\n",
      "        theta = theta + (alpha / m) * np.dot((values - predicted_values), features)\n",
      "        cost = compute_cost(features, values, theta)\n",
      "        cost_history.append(cost)\n",
      "\n",
      "    return theta, pd.Series(cost_history)"
     ],
     "language": "python",
     "metadata": {},
     "outputs": [],
     "prompt_number": 84
    },
    {
     "cell_type": "code",
     "collapsed": false,
     "input": [
      "def calc_predictions(features, values, theta, plot_cost=False):      \n",
      "    m = len(values)\n",
      "\n",
      "    features, mu, sigma = normalize_features(features)\n",
      "    features['ones'] = np.ones(m) # Add a column of 1s (y intercept)\n",
      "\n",
      "    # Convert features and values to numpy arrays\n",
      "    features_array = np.array(features)\n",
      "    values_array = np.array(values)\n",
      "\n",
      "    # Set values for alpha, number of iterations.\n",
      "    alpha = 0.1\n",
      "    num_iterations = 75\n",
      "\n",
      "    # If initial theta is not specified, user zeros\n",
      "    if theta == None:\n",
      "        theta = np.zeros(len(features.columns))\n",
      "    \n",
      "    # Initialize theta, perform gradient descent\n",
      "    theta, cost_history = gradient_descent(features_array,\n",
      "                                           values_array,\n",
      "                                           theta,\n",
      "                                           alpha,\n",
      "                                           num_iterations)\n",
      "    \n",
      "    if plot_cost == True:\n",
      "        plot_cost_history(alpha, cost_history)\n",
      "    \n",
      "    predictions = np.dot(features_array, theta)\n",
      "\n",
      "    return predictions"
     ],
     "language": "python",
     "metadata": {},
     "outputs": [],
     "prompt_number": 85
    },
    {
     "cell_type": "code",
     "collapsed": false,
     "input": [
      "def plot_cost_history(alpha, cost_history):\n",
      "    num_iterations = len(cost_history)\n",
      "    plt.plot(range(num_iterations), cost_history, 'ro')\n",
      "    plt.xlabel('%i iterations' % num_iterations)\n",
      "    plt.ylabel('Cost')\n",
      "    plt.title('Cost History for alpha = %.2f' % alpha)\n",
      "    plt.show()"
     ],
     "language": "python",
     "metadata": {},
     "outputs": [],
     "prompt_number": 86
    },
    {
     "cell_type": "code",
     "collapsed": false,
     "input": [
      "def compute_r_squared(data, predictions):\n",
      "    sum_square_errors = np.square(data - predictions).sum()\n",
      "    y_bar = np.mean(data)\n",
      "    sum_square_diffs = np.square(data - y_bar).sum()   \n",
      "    r_squared = 1 - (sum_square_errors / sum_square_diffs)\n",
      "    \n",
      "    return r_squared"
     ],
     "language": "python",
     "metadata": {},
     "outputs": [],
     "prompt_number": 87
    },
    {
     "cell_type": "code",
     "collapsed": false,
     "input": [
      "def plot_residuals(values, predictions, bin_size):   \n",
      "    residuals = (values - predictions)\n",
      "    k2, p = st.normaltest(residuals)\n",
      "    plt.figure()\n",
      "    residuals.hist(bins=bin_size)\n",
      "    plt.xlabel('Value minus predicionm bins = %i' % bin_size)\n",
      "    plt.ylabel('Frequency')\n",
      "    plt.title('Histogram of the residuals, mean = %.5f\\n \\\n",
      "    Normality test, k2 = %.5f, p = %.5f' % (residuals.mean(), k2, p))\n",
      "    plt.show()\n",
      "    \n",
      "    return residuals"
     ],
     "language": "python",
     "metadata": {},
     "outputs": []
    },
    {
     "cell_type": "raw",
     "metadata": {},
     "source": [
      "features = df[['hour', 'day_week']]\n",
      "predictions = calc_predictions(features, df_entries_hourly, None)\n",
      "print compute_r_squared(df_entries_hourly, predictions)"
     ]
    },
    {
     "cell_type": "raw",
     "metadata": {},
     "source": [
      "features = df[['hour', 'weekday']]\n",
      "predictions = calc_predictions(features, df_entries_hourly, None)\n",
      "print compute_r_squared(df_entries_hourly, predictions)"
     ]
    },
    {
     "cell_type": "raw",
     "metadata": {},
     "source": [
      "features = df[['hour', 'weekday']]\n",
      "# including holiday as a feature, 05-30-11 is Memorial Day\n",
      "features['holiday'] = np.where(df['DATEn'] == '05-30-11', 1, 0)\n",
      "predictions = calc_predictions(features, df_entries_hourly, None)\n",
      "print compute_r_squared(df_entries_hourly, predictions)"
     ]
    },
    {
     "cell_type": "raw",
     "metadata": {},
     "source": [
      "features = df[['hour', 'weekday', 'rain']]\n",
      "predictions = calc_predictions(features, df_entries_hourly, None)\n",
      "print compute_r_squared(df_entries_hourly, predictions)"
     ]
    },
    {
     "cell_type": "raw",
     "metadata": {},
     "source": [
      "features = df[['hour', 'weekday', 'fog']]\n",
      "predictions = calc_predictions(features, df_entries_hourly, None)\n",
      "print compute_r_squared(df_entries_hourly, predictions)"
     ]
    },
    {
     "cell_type": "raw",
     "metadata": {},
     "source": [
      "features = df[['hour', 'weekday', 'precipi', 'pressurei', 'tempi', 'wspdi']]\n",
      "predictions = calc_predictions(features, df_entries_hourly, None)\n",
      "print compute_r_squared(df_entries_hourly, predictions)"
     ]
    },
    {
     "cell_type": "raw",
     "metadata": {},
     "source": [
      "features = df[['hour', 'weekday', 'meanprecipi', 'meanpressurei', 'meantempi', 'meanwspdi']]\n",
      "predictions = calc_predictions(features, df_entries_hourly, None)\n",
      "print compute_r_squared(df_entries_hourly, predictions)"
     ]
    },
    {
     "cell_type": "raw",
     "metadata": {},
     "source": [
      "features = df[['hour', 'weekday']]\n",
      "# Add conds to features using dummy variables\n",
      "dummies = pd.get_dummies(df['conds'], prefix='conds')\n",
      "features = features.join(dummies)\n",
      "predictions = calc_predictions(features, df_entries_hourly, None)\n",
      "print compute_r_squared(df_entries_hourly, predictions)"
     ]
    },
    {
     "cell_type": "raw",
     "metadata": {},
     "source": [
      "features = df[['hour', 'weekday', 'latitude', 'longitude']]\n",
      "predictions = calc_predictions(features, df_entries_hourly, None)\n",
      "print compute_r_squared(df_entries_hourly, predictions)"
     ]
    },
    {
     "cell_type": "raw",
     "metadata": {},
     "source": [
      "features = df[['hour', 'weekday']]\n",
      "# Add station to features using dummy variables\n",
      "dummies = pd.get_dummies(df['station'], prefix='station')\n",
      "features = features.join(dummies)\n",
      "predictions = calc_predictions(features, df_entries_hourly, None)\n",
      "print compute_r_squared(df_entries_hourly, predictions)"
     ]
    },
    {
     "cell_type": "raw",
     "metadata": {},
     "source": [
      "features = df[['hour', 'weekday']]\n",
      "# Add UNIT to features using dummy variables\n",
      "dummies = pd.get_dummies(df['UNIT'], prefix='unit')\n",
      "features = features.join(dummies)\n",
      "predictions = calc_predictions(features, df_entries_hourly, None)\n",
      "print compute_r_squared(df_entries_hourly, predictions)"
     ]
    },
    {
     "cell_type": "code",
     "collapsed": false,
     "input": [
      "features = df[['hour', 'weekday']]\n",
      "# including holiday as a feature, 05-30-11 is Memorial Day\n",
      "features['holiday'] = np.where(df['DATEn'] == '05-30-11', 1, 0)\n",
      "# Add conds to features using dummy variables\n",
      "dummies = pd.get_dummies(df['conds'], prefix='conds')\n",
      "features = features.join(dummies)\n",
      "# Add UNIT to features using dummy variables\n",
      "dummies = pd.get_dummies(df['UNIT'], prefix='unit')\n",
      "features = features.join(dummies)\n",
      "predictions = calc_predictions(features, df_entries_hourly, None, plot_cost=True)\n",
      "print 'R^2 = %.5f' % compute_r_squared(df_entries_hourly, predictions)\n",
      "print pd.DataFrame(predictions).describe()\n",
      "residuals = plot_residuals(df_entries_hourly, predictions, 25)\n",
      "residuals = plot_residuals(df_entries_hourly, predictions, 100)\n",
      "residuals = plot_residuals(df_entries_hourly, predictions, 250)\n",
      "#http://discussions.udacity.com/t/residuals-normality/7035/2\n",
      "st.probplot(residuals, plot=plt)\n",
      "plt.show()"
     ],
     "language": "python",
     "metadata": {},
     "outputs": [
      {
       "metadata": {},
       "output_type": "display_data",
       "png": "[encoded data removed]",
       "text": [
        "<matplotlib.figure.Figure at 0x1b305dd8>"
       ]
      },
      {
       "output_type": "stream",
       "stream": "stdout",
       "text": [
        "R^2 = 0.48968\n",
        "                  0\n",
        "count  42649.000000\n",
        "mean    1885.891939\n",
        "std     2064.677012\n",
        "min    -2070.689616\n",
        "25%      543.237880\n",
        "50%     1559.378930\n",
        "75%     2659.252094\n",
        "max    11808.639209\n"
       ]
      },
      {
       "metadata": {},
       "output_type": "display_data",
       "png": "[encoded data removed]",
       "text": [
        "<matplotlib.figure.Figure at 0x1719c240>"
       ]
      },
      {
       "metadata": {},
       "output_type": "display_data",
       "png": "[encoded data removed]",
       "text": [
        "<matplotlib.figure.Figure at 0x1719c2b0>"
       ]
      },
      {
       "metadata": {},
       "output_type": "display_data",
       "png": "[encoded data removed]",
       "text": [
        "<matplotlib.figure.Figure at 0x16cd3400>"
       ]
      }
     ]
    },
    {
     "cell_type": "code",
     "collapsed": false,
     "input": [
      "features = df[['hour', 'weekday', 'precipi', 'pressurei', 'tempi', 'wspdi']]\n",
      "# including holiday as a feature, 05-30-11 is Memorial Day\n",
      "features['holiday'] = np.where(df['DATEn']=='05-30-11', 1, 0)\n",
      "# Add UNIT to features using dummy variables\n",
      "dummies = pd.get_dummies(df['UNIT'], prefix='unit')\n",
      "features = features.join(dummies)\n",
      "predictions = calc_predictions(features, df_entries_hourly, None)\n",
      "print 'R^2 = %.5f' % compute_r_squared(df_entries_hourly, predictions)"
     ],
     "language": "python",
     "metadata": {},
     "outputs": []
    },
    {
     "cell_type": "code",
     "collapsed": false,
     "input": [
      "features = df[['hour', 'weekday', 'meanprecipi', 'meanpressurei', 'meantempi', 'meanwspdi']]\n",
      "# including holiday as a feature, 05-30-11 is Memorial Day\n",
      "features['holiday'] = np.where(df['DATEn']=='05-30-11', 1, 0)\n",
      "# Add UNIT to features using dummy variables\n",
      "dummies = pd.get_dummies(df['UNIT'], prefix='unit')\n",
      "features = features.join(dummies)\n",
      "predictions = calc_predictions(features, df_entries_hourly, None)\n",
      "print 'R^2 = %.5f' % compute_r_squared(df_entries_hourly, predictions)"
     ],
     "language": "python",
     "metadata": {},
     "outputs": []
    },
    {
     "cell_type": "code",
     "collapsed": false,
     "input": [
      "features = df[['hour', 'weekday', 'rain']]\n",
      "# including holiday as a feature, 05-30-11 is Memorial Day\n",
      "features['holiday'] = np.where(df['DATEn'] == '05-30-11', 1, 0)\n",
      "# Add UNIT to features using dummy variables\n",
      "dummies = pd.get_dummies(df['UNIT'], prefix='unit')\n",
      "features = features.join(dummies)\n",
      "predictions = calc_predictions(features, df_entries_hourly, None)\n",
      "print 'R^2 = %.5f' % compute_r_squared(df_entries_hourly, predictions)"
     ],
     "language": "python",
     "metadata": {},
     "outputs": []
    }
   ],
   "metadata": {}
  }
 ]
}